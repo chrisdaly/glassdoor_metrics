{
 "cells": [
  {
   "cell_type": "markdown",
   "metadata": {},
   "source": [
    "## Libraries"
   ]
  },
  {
   "cell_type": "code",
   "execution_count": 1,
   "metadata": {
    "collapsed": true
   },
   "outputs": [],
   "source": [
    "import os\n",
    "import time\n",
    "import requests\n",
    "import pandas as pd\n",
    "\n",
    "from glassdoor_reviews import ReviewPage"
   ]
  },
  {
   "cell_type": "markdown",
   "metadata": {},
   "source": [
    "## Directories"
   ]
  },
  {
   "cell_type": "code",
   "execution_count": 2,
   "metadata": {
    "collapsed": true
   },
   "outputs": [],
   "source": [
    "job_code = 'Test'\n",
    "date_ = time.strftime(str(pd.to_datetime('today').date()))\n",
    "data_types = ['Raw Data', 'Processed Data']\n",
    "\n",
    "for data_type in data_types:\n",
    "    dir_ = '../../{}/{}/{}'.format(data_type, job_code, date_)\n",
    "    if not os.path.exists(dir_):\n",
    "        os.makedirs(dir_)"
   ]
  },
  {
   "cell_type": "markdown",
   "metadata": {},
   "source": [
    "## Processing"
   ]
  },
  {
   "cell_type": "code",
   "execution_count": 3,
   "metadata": {
    "collapsed": true
   },
   "outputs": [],
   "source": [
    "headers = {\n",
    "    'user-agent': 'Mozilla/5.0 (Linux; Android 6.0; Nexus 5 Build/MRA58N) \\\n",
    "     AppleWebKit/537.36 (KHTML, like Gecko) Chrome/58.0.3029.110 Mobile \\\n",
    "     Safari/537.36'\n",
    "}\n",
    "\n",
    "params = {\n",
    "    \"filter.defaultEmploymentStatuses\": False, \n",
    "    \"filter.defaultLocation\": False    \n",
    "}"
   ]
  },
  {
   "cell_type": "code",
   "execution_count": 4,
   "metadata": {},
   "outputs": [
    {
     "name": "stdout",
     "output_type": "stream",
     "text": [
      "https://www.glassdoor.co.uk/Reviews/CHS-Inc-Reviews-E8355.htm?filter.defaultEmploymentStatuses=false&filter.defaultLocation=false\n",
      "https://www.glassdoor.co.uk/Reviews/CHS-Inc-Reviews-E8355_P2.htm?filter.defaultEmploymentStatuses=false&filter.defaultLocation=false\n",
      "https://www.glassdoor.co.uk/Reviews/CHS-Inc-Reviews-E8355_P3.htm?filter.defaultEmploymentStatuses=false&filter.defaultLocation=false\n",
      "https://www.glassdoor.co.uk/Reviews/CHS-Inc-Reviews-E8355_P4.htm?filter.defaultEmploymentStatuses=false&filter.defaultLocation=false\n",
      "https://www.glassdoor.co.uk/Reviews/CHS-Inc-Reviews-E8355_P5.htm?filter.defaultEmploymentStatuses=false&filter.defaultLocation=false\n",
      "https://www.glassdoor.co.uk/Reviews/CHS-Inc-Reviews-E8355_P6.htm?filter.defaultEmploymentStatuses=false&filter.defaultLocation=false\n",
      "https://www.glassdoor.co.uk/Reviews/CHS-Inc-Reviews-E8355_P7.htm?filter.defaultEmploymentStatuses=false&filter.defaultLocation=false\n",
      "https://www.glassdoor.co.uk/Reviews/CHS-Inc-Reviews-E8355_P8.htm?filter.defaultEmploymentStatuses=false&filter.defaultLocation=false\n",
      "https://www.glassdoor.co.uk/Reviews/CHS-Inc-Reviews-E8355_P9.htm?filter.defaultEmploymentStatuses=false&filter.defaultLocation=false\n",
      "https://www.glassdoor.co.uk/Reviews/CHS-Inc-Reviews-E8355_P10.htm?filter.defaultEmploymentStatuses=false&filter.defaultLocation=false\n",
      "https://www.glassdoor.co.uk/Reviews/CHS-Inc-Reviews-E8355_P11.htm?filter.defaultEmploymentStatuses=false&filter.defaultLocation=false\n",
      "https://www.glassdoor.co.uk/Reviews/CHS-Inc-Reviews-E8355_P12.htm?filter.defaultEmploymentStatuses=false&filter.defaultLocation=false\n",
      "https://www.glassdoor.co.uk/Reviews/CHS-Inc-Reviews-E8355_P13.htm?filter.defaultEmploymentStatuses=false&filter.defaultLocation=false\n",
      "https://www.glassdoor.co.uk/Reviews/CHS-Inc-Reviews-E8355_P14.htm?filter.defaultEmploymentStatuses=false&filter.defaultLocation=false\n",
      "https://www.glassdoor.co.uk/Reviews/CHS-Inc-Reviews-E8355_P15.htm?filter.defaultEmploymentStatuses=false&filter.defaultLocation=false\n",
      "https://www.glassdoor.co.uk/Reviews/CHS-Inc-Reviews-E8355_P16.htm?filter.defaultEmploymentStatuses=false&filter.defaultLocation=false\n",
      "https://www.glassdoor.co.uk/Reviews/CHS-Inc-Reviews-E8355_P17.htm?filter.defaultEmploymentStatuses=false&filter.defaultLocation=false\n",
      "https://www.glassdoor.co.uk/Reviews/CHS-Inc-Reviews-E8355_P18.htm?filter.defaultEmploymentStatuses=false&filter.defaultLocation=false\n",
      "https://www.glassdoor.co.uk/Reviews/CHS-Inc-Reviews-E8355_P19.htm?filter.defaultEmploymentStatuses=false&filter.defaultLocation=false\n"
     ]
    }
   ],
   "source": [
    "start_url = 'https://www.glassdoor.co.uk/Reviews/CHS-Inc-Reviews-E8355.htm'\n",
    "url = start_url\n",
    "data = []\n",
    "\n",
    "while True:\n",
    "    if not url:\n",
    "        break\n",
    "    time.sleep(1)\n",
    "    response = requests.get(url, headers=headers, params=params)\n",
    "    print(response.url)\n",
    "    if not response.ok:\n",
    "        break\n",
    "    rp = ReviewPage.from_response(response)\n",
    "\n",
    "    for review in rp.reviews():\n",
    "        data.append(review)\n",
    "\n",
    "    url = rp.next_page_url"
   ]
  },
  {
   "cell_type": "code",
   "execution_count": 6,
   "metadata": {},
   "outputs": [
    {
     "name": "stdout",
     "output_type": "stream",
     "text": [
      "(189, 13)\n"
     ]
    },
    {
     "data": {
      "text/html": [
       "<div>\n",
       "<style scoped>\n",
       "    .dataframe tbody tr th:only-of-type {\n",
       "        vertical-align: middle;\n",
       "    }\n",
       "\n",
       "    .dataframe tbody tr th {\n",
       "        vertical-align: top;\n",
       "    }\n",
       "\n",
       "    .dataframe thead th {\n",
       "        text-align: right;\n",
       "    }\n",
       "</style>\n",
       "<table border=\"1\" class=\"dataframe\">\n",
       "  <thead>\n",
       "    <tr style=\"text-align: right;\">\n",
       "      <th></th>\n",
       "      <th>admin</th>\n",
       "      <th>advice</th>\n",
       "      <th>cons</th>\n",
       "      <th>date</th>\n",
       "      <th>id</th>\n",
       "      <th>link</th>\n",
       "      <th>location</th>\n",
       "      <th>position</th>\n",
       "      <th>pros</th>\n",
       "      <th>rating</th>\n",
       "      <th>recommendations</th>\n",
       "      <th>sub_ratings</th>\n",
       "      <th>title</th>\n",
       "    </tr>\n",
       "  </thead>\n",
       "  <tbody>\n",
       "    <tr>\n",
       "      <th>0</th>\n",
       "      <td>empReview cf</td>\n",
       "      <td>Keep moving forward.</td>\n",
       "      <td>Prioritizing work and work/life balance.</td>\n",
       "      <td>None</td>\n",
       "      <td>24470809</td>\n",
       "      <td>https://www.glassdoor.co.uk/Reviews/Employee-R...</td>\n",
       "      <td>Saint Paul, MN (US)</td>\n",
       "      <td>Current Employee - N/A</td>\n",
       "      <td>Your voice (no matter how small) is heard.</td>\n",
       "      <td>4.0</td>\n",
       "      <td>{'recommends': 'Recommends', 'outlook': 'Posit...</td>\n",
       "      <td>{'work_life_balance': '3.0', 'culture_and_valu...</td>\n",
       "      <td>Great Place to Work</td>\n",
       "    </tr>\n",
       "    <tr>\n",
       "      <th>1</th>\n",
       "      <td>empReview cf</td>\n",
       "      <td>None</td>\n",
       "      <td>Always busy, there is always people calling an...</td>\n",
       "      <td>2019-02-12</td>\n",
       "      <td>24669093</td>\n",
       "      <td>https://www.glassdoor.co.uk/Reviews/Employee-R...</td>\n",
       "      <td>None</td>\n",
       "      <td>Current Employee - Service Desk</td>\n",
       "      <td>Good people, flexible shifts. Great supervisors</td>\n",
       "      <td>4.0</td>\n",
       "      <td>None</td>\n",
       "      <td>None</td>\n",
       "      <td>Service Desk Tier 1</td>\n",
       "    </tr>\n",
       "    <tr>\n",
       "      <th>2</th>\n",
       "      <td>empReview cf</td>\n",
       "      <td>None</td>\n",
       "      <td>- Slow to adopt change/new technology-Limited ...</td>\n",
       "      <td>2019-01-30</td>\n",
       "      <td>24453511</td>\n",
       "      <td>https://www.glassdoor.co.uk/Reviews/Employee-R...</td>\n",
       "      <td>None</td>\n",
       "      <td>Current Employee - Anonymous Employee</td>\n",
       "      <td>-Great benefits- Flexible work schedule (work ...</td>\n",
       "      <td>4.0</td>\n",
       "      <td>{'recommends': 'Recommends', 'outlook': 'Posit...</td>\n",
       "      <td>{'work_life_balance': '4.0', 'culture_and_valu...</td>\n",
       "      <td>Great company</td>\n",
       "    </tr>\n",
       "  </tbody>\n",
       "</table>\n",
       "</div>"
      ],
      "text/plain": [
       "            admin                advice  \\\n",
       "0   empReview cf   Keep moving forward.   \n",
       "1   empReview cf                   None   \n",
       "2   empReview cf                   None   \n",
       "\n",
       "                                                cons        date        id  \\\n",
       "0           Prioritizing work and work/life balance.        None  24470809   \n",
       "1  Always busy, there is always people calling an...  2019-02-12  24669093   \n",
       "2  - Slow to adopt change/new technology-Limited ...  2019-01-30  24453511   \n",
       "\n",
       "                                                link             location  \\\n",
       "0  https://www.glassdoor.co.uk/Reviews/Employee-R...  Saint Paul, MN (US)   \n",
       "1  https://www.glassdoor.co.uk/Reviews/Employee-R...                 None   \n",
       "2  https://www.glassdoor.co.uk/Reviews/Employee-R...                 None   \n",
       "\n",
       "                                position  \\\n",
       "0                 Current Employee - N/A   \n",
       "1        Current Employee - Service Desk   \n",
       "2  Current Employee - Anonymous Employee   \n",
       "\n",
       "                                                pros rating  \\\n",
       "0         Your voice (no matter how small) is heard.    4.0   \n",
       "1    Good people, flexible shifts. Great supervisors    4.0   \n",
       "2  -Great benefits- Flexible work schedule (work ...    4.0   \n",
       "\n",
       "                                     recommendations  \\\n",
       "0  {'recommends': 'Recommends', 'outlook': 'Posit...   \n",
       "1                                               None   \n",
       "2  {'recommends': 'Recommends', 'outlook': 'Posit...   \n",
       "\n",
       "                                         sub_ratings                title  \n",
       "0  {'work_life_balance': '3.0', 'culture_and_valu...  Great Place to Work  \n",
       "1                                               None  Service Desk Tier 1  \n",
       "2  {'work_life_balance': '4.0', 'culture_and_valu...        Great company  "
      ]
     },
     "execution_count": 6,
     "metadata": {},
     "output_type": "execute_result"
    }
   ],
   "source": [
    "df = pd.DataFrame(data)\n",
    "print(df.shape)\n",
    "df.head(3)"
   ]
  },
  {
   "cell_type": "markdown",
   "metadata": {},
   "source": [
    "## Format"
   ]
  },
  {
   "cell_type": "code",
   "execution_count": null,
   "metadata": {
    "collapsed": true
   },
   "outputs": [],
   "source": [
    "df = df[['id', 'link', 'date', 'position',  'location', 'title', 'advice', 'pros', 'cons', \n",
    "         'rating',  'career_opportunities', 'comp_and_benefits', 'culture_and_values', \n",
    "         'senior_management',  'work_life_balance', 'outlook',   'recommends', 'approval_of_ceo', 'admin']]"
   ]
  },
  {
   "cell_type": "markdown",
   "metadata": {},
   "source": [
    "## Output"
   ]
  },
  {
   "cell_type": "code",
   "execution_count": null,
   "metadata": {
    "collapsed": true
   },
   "outputs": [],
   "source": [
    "company = start_url.split('Reviews/')[1].split('-Reviews')[0].replace('-', ' ')"
   ]
  },
  {
   "cell_type": "code",
   "execution_count": null,
   "metadata": {
    "collapsed": true
   },
   "outputs": [],
   "source": [
    "dir_output = '../../Processed Data/{}/{}'.format(job_code, date_)\n",
    "file_name_output = 'Glassdoor Reviews - {}.csv'.format(company)\n",
    "file_path = '{}/{}'.format(dir_output, file_name_output)\n",
    "print(file_path)\n",
    "df.to_csv(file_path, index=False)"
   ]
  }
 ],
 "metadata": {
  "kernelspec": {
   "display_name": "Python 3",
   "language": "python",
   "name": "python3"
  },
  "language_info": {
   "codemirror_mode": {
    "name": "ipython",
    "version": 3
   },
   "file_extension": ".py",
   "mimetype": "text/x-python",
   "name": "python",
   "nbconvert_exporter": "python",
   "pygments_lexer": "ipython3",
   "version": "3.6.8"
  },
  "toc": {
   "base_numbering": 1,
   "nav_menu": {},
   "number_sections": true,
   "sideBar": true,
   "skip_h1_title": false,
   "title_cell": "Table of Contents",
   "title_sidebar": "Contents",
   "toc_cell": false,
   "toc_position": {},
   "toc_section_display": true,
   "toc_window_display": false
  },
  "varInspector": {
   "cols": {
    "lenName": 16,
    "lenType": 16,
    "lenVar": 40
   },
   "kernels_config": {
    "python": {
     "delete_cmd_postfix": "",
     "delete_cmd_prefix": "del ",
     "library": "var_list.py",
     "varRefreshCmd": "print(var_dic_list())"
    },
    "r": {
     "delete_cmd_postfix": ") ",
     "delete_cmd_prefix": "rm(",
     "library": "var_list.r",
     "varRefreshCmd": "cat(var_dic_list()) "
    }
   },
   "types_to_exclude": [
    "module",
    "function",
    "builtin_function_or_method",
    "instance",
    "_Feature"
   ],
   "window_display": false
  }
 },
 "nbformat": 4,
 "nbformat_minor": 2
}
